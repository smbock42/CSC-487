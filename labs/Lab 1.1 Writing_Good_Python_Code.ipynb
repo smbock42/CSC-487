{
  "cells": [
    {
      "cell_type": "markdown",
      "metadata": {
        "id": "oh8KW8inJnLH"
      },
      "source": [
        "# Lab 1.1 Writing Good Python Code"
      ]
    },
    {
      "cell_type": "markdown",
      "metadata": {
        "id": "JvzVrY3fiJd3"
      },
      "source": [
        "## How to use a Python notebook\n",
        "\n",
        "* `Shift-Enter` to run the current cell and move to the next one\n",
        "* You can add code or text cells\n",
        "* The result of the last line in each block will be printed out, unless it is an assignment\n",
        "\n",
        "Remember -- your variables persist as you move between cells!  Be careful about moving backward in the code -- you might enter an unexpected state where your variables are not initialized properly.  If you are seeing strange code behavior, try restarting the kernel and running the notebook again."
      ]
    },
    {
      "cell_type": "markdown",
      "metadata": {
        "id": "KA_daM-Vdp7j"
      },
      "source": [
        "## Use list iteration rather than indexing\n",
        "\n",
        "Rather than iterating through a list using `range(len(list))`, simply iterate on the list directly."
      ]
    },
    {
      "cell_type": "code",
      "execution_count": 1,
      "metadata": {
        "id": "KMU0ZHcmebPb"
      },
      "outputs": [],
      "source": [
        "fruits = ['apple','orange','guava','cherry']\n",
        "# fruits"
      ]
    },
    {
      "cell_type": "markdown",
      "metadata": {
        "id": "525ANp1yjRaF"
      },
      "source": [
        "❌"
      ]
    },
    {
      "cell_type": "code",
      "execution_count": 2,
      "metadata": {
        "colab": {
          "base_uri": "https://localhost:8080/"
        },
        "id": "yG036DfydnnJ",
        "outputId": "044ffd95-21d4-4ce2-8d9c-fed2157ef4ca"
      },
      "outputs": [
        {
          "output_type": "stream",
          "name": "stdout",
          "text": [
            "apple\n",
            "orange\n",
            "guava\n",
            "cherry\n"
          ]
        }
      ],
      "source": [
        "for i in range(len(fruits)):\n",
        "  fruit = fruits[i]\n",
        "  print(fruit)"
      ]
    },
    {
      "cell_type": "markdown",
      "metadata": {
        "id": "KRnt5DoMjTfC"
      },
      "source": [
        "✅"
      ]
    },
    {
      "cell_type": "code",
      "execution_count": 3,
      "metadata": {
        "colab": {
          "base_uri": "https://localhost:8080/"
        },
        "id": "Rlf2t--fe2uK",
        "outputId": "da0fc657-9cc4-4e35-a541-502ab8679553"
      },
      "outputs": [
        {
          "output_type": "stream",
          "name": "stdout",
          "text": [
            "apple\n",
            "orange\n",
            "guava\n",
            "cherry\n"
          ]
        }
      ],
      "source": [
        "for fruit in fruits:\n",
        "  print(fruit)"
      ]
    },
    {
      "cell_type": "markdown",
      "metadata": {
        "id": "7S0LdrDze9zg"
      },
      "source": [
        "If you need the index of the item, use `enumerate`."
      ]
    },
    {
      "cell_type": "code",
      "execution_count": 4,
      "metadata": {
        "colab": {
          "base_uri": "https://localhost:8080/"
        },
        "id": "uBMw03FzeVRJ",
        "outputId": "11d74383-e3d1-4552-bcfc-539d8ff6ffc8"
      },
      "outputs": [
        {
          "output_type": "stream",
          "name": "stdout",
          "text": [
            "0 apple\n",
            "1 orange\n",
            "2 guava\n",
            "3 cherry\n"
          ]
        }
      ],
      "source": [
        "for i,fruit in enumerate(fruits):\n",
        "  print(i,fruit)"
      ]
    },
    {
      "cell_type": "markdown",
      "metadata": {
        "id": "MEECZX_oeriq"
      },
      "source": [
        "## Use list comprehensions rather than for loops to build lists\n",
        "\n",
        "The list comprehension syntax is much shorter and cleaner than building a list using a for loop."
      ]
    },
    {
      "cell_type": "markdown",
      "metadata": {
        "id": "53afwnrpjgF8"
      },
      "source": [
        "❌"
      ]
    },
    {
      "cell_type": "code",
      "execution_count": 5,
      "metadata": {
        "colab": {
          "base_uri": "https://localhost:8080/"
        },
        "id": "E8RdGYdmfEHS",
        "outputId": "4e0becb7-8bc8-4094-a4b6-dbfcaa9b7c1a"
      },
      "outputs": [
        {
          "output_type": "execute_result",
          "data": {
            "text/plain": [
              "['a', 'o', 'g', 'c']"
            ]
          },
          "metadata": {},
          "execution_count": 5
        }
      ],
      "source": [
        "first_letter = []\n",
        "for fruit in fruits:\n",
        "  first_letter.append(fruit[0])\n",
        "first_letter"
      ]
    },
    {
      "cell_type": "markdown",
      "metadata": {
        "id": "cn6-S-Wnjier"
      },
      "source": [
        "✅"
      ]
    },
    {
      "cell_type": "code",
      "execution_count": 6,
      "metadata": {
        "colab": {
          "base_uri": "https://localhost:8080/"
        },
        "id": "p88xoWbjfeAx",
        "outputId": "5630d6e8-2ec6-425e-b691-a0b8ff55c849"
      },
      "outputs": [
        {
          "output_type": "execute_result",
          "data": {
            "text/plain": [
              "['a', 'o', 'g', 'c']"
            ]
          },
          "metadata": {},
          "execution_count": 6
        }
      ],
      "source": [
        "first_letter = [fruit[0] for fruit in fruits]\n",
        "first_letter"
      ]
    },
    {
      "cell_type": "markdown",
      "metadata": {
        "id": "ds0j8T5cvaw1"
      },
      "source": [
        "## Use `map` to apply an operation to a list\n",
        "\n",
        "If you need to do something to each item in a list, use `map` rather than a for loop.  Note that `map` by itself won't run the loop; you need to do `list(map(...))` for the code to actually run."
      ]
    },
    {
      "cell_type": "markdown",
      "metadata": {
        "id": "S9AxPp38vmTx"
      },
      "source": [
        "❌"
      ]
    },
    {
      "cell_type": "code",
      "execution_count": 7,
      "metadata": {
        "colab": {
          "base_uri": "https://localhost:8080/"
        },
        "id": "nm1qlBEovaEA",
        "outputId": "9cc9ac35-88af-4744-af39-0c6b55ee143b"
      },
      "outputs": [
        {
          "output_type": "execute_result",
          "data": {
            "text/plain": [
              "['a', 'o', 'g', 'c']"
            ]
          },
          "metadata": {},
          "execution_count": 7
        }
      ],
      "source": [
        "first_letter = []\n",
        "for fruit in fruits:\n",
        "  first_letter.append(fruit[0])\n",
        "first_letter"
      ]
    },
    {
      "cell_type": "markdown",
      "metadata": {
        "id": "_7myYePMvnVU"
      },
      "source": [
        "✅"
      ]
    },
    {
      "cell_type": "code",
      "execution_count": 8,
      "metadata": {
        "colab": {
          "base_uri": "https://localhost:8080/"
        },
        "id": "7rKYbXNyvoVR",
        "outputId": "f50c9a7e-f9aa-4bf0-ada2-776ca41657b1"
      },
      "outputs": [
        {
          "output_type": "execute_result",
          "data": {
            "text/plain": [
              "['a', 'o', 'g', 'c']"
            ]
          },
          "metadata": {},
          "execution_count": 8
        }
      ],
      "source": [
        "def get_first_letter(word):\n",
        "  return word[0]\n",
        "first_letter = list(map(get_first_letter,fruits))\n",
        "first_letter"
      ]
    },
    {
      "cell_type": "markdown",
      "metadata": {
        "id": "u_X9CPWkv9cV"
      },
      "source": [
        "With a `lambda` function:"
      ]
    },
    {
      "cell_type": "code",
      "execution_count": 9,
      "metadata": {
        "colab": {
          "base_uri": "https://localhost:8080/"
        },
        "id": "TogD1Fpfv0hH",
        "outputId": "19a50cae-b367-41c5-f17e-6f4140ded869"
      },
      "outputs": [
        {
          "output_type": "execute_result",
          "data": {
            "text/plain": [
              "['a', 'o', 'g', 'c']"
            ]
          },
          "metadata": {},
          "execution_count": 9
        }
      ],
      "source": [
        "first_letter = list(map(lambda x:x[0],fruits))\n",
        "first_letter"
      ]
    },
    {
      "cell_type": "markdown",
      "metadata": {
        "id": "iwXkRkSwv-8R"
      },
      "source": [
        "I also like the list comprehension style which I think is more readable:"
      ]
    },
    {
      "cell_type": "code",
      "execution_count": 10,
      "metadata": {
        "colab": {
          "base_uri": "https://localhost:8080/"
        },
        "id": "iadGvUhpv3g0",
        "outputId": "3a51c5e7-3d2d-4e9b-d969-822e2f5222f7"
      },
      "outputs": [
        {
          "output_type": "execute_result",
          "data": {
            "text/plain": [
              "['a', 'o', 'g', 'c']"
            ]
          },
          "metadata": {},
          "execution_count": 10
        }
      ],
      "source": [
        "first_letter = [fruit[0] for fruit in fruits]\n",
        "first_letter"
      ]
    },
    {
      "cell_type": "markdown",
      "metadata": {
        "id": "Z_UjDzDawFAA"
      },
      "source": [
        "You can even include a conditional in the list comprehension:"
      ]
    },
    {
      "cell_type": "code",
      "execution_count": 11,
      "metadata": {
        "colab": {
          "base_uri": "https://localhost:8080/"
        },
        "id": "wjZD4yO8wHfQ",
        "outputId": "994dc9b7-419f-4da4-c280-6be6b9daf23d"
      },
      "outputs": [
        {
          "output_type": "execute_result",
          "data": {
            "text/plain": [
              "['a', 'g', 'c']"
            ]
          },
          "metadata": {},
          "execution_count": 11
        }
      ],
      "source": [
        "first_letter = [fruit[0] for fruit in fruits if fruit != 'orange']\n",
        "first_letter"
      ]
    },
    {
      "cell_type": "markdown",
      "metadata": {
        "id": "Mtb4ePSlzn0C"
      },
      "source": [
        "However it is not good practice to use a list comprehension when youre intent is not to create a list, as in this example:"
      ]
    },
    {
      "cell_type": "code",
      "execution_count": 12,
      "metadata": {
        "colab": {
          "base_uri": "https://localhost:8080/"
        },
        "id": "zjLW6AoGzm37",
        "outputId": "0b91a233-b1e2-4c81-83d8-bd59043dea02"
      },
      "outputs": [
        {
          "output_type": "stream",
          "name": "stdout",
          "text": [
            "apple\n",
            "orange\n",
            "guava\n",
            "cherry\n"
          ]
        },
        {
          "output_type": "execute_result",
          "data": {
            "text/plain": [
              "[None, None, None, None]"
            ]
          },
          "metadata": {},
          "execution_count": 12
        }
      ],
      "source": [
        "[print(fruit) for fruit in fruits]"
      ]
    },
    {
      "cell_type": "markdown",
      "metadata": {
        "id": "gQDGd7fh0Peg"
      },
      "source": [
        "Here we are needlessly allocating a list filled with `None`.  It is more readable to simply use a for loop here:"
      ]
    },
    {
      "cell_type": "code",
      "execution_count": 13,
      "metadata": {
        "colab": {
          "base_uri": "https://localhost:8080/"
        },
        "id": "t7rkGSY-0dPC",
        "outputId": "3813c513-0209-4d81-bf5d-31d3fc308457"
      },
      "outputs": [
        {
          "output_type": "stream",
          "name": "stdout",
          "text": [
            "apple\n",
            "orange\n",
            "guava\n",
            "cherry\n"
          ]
        }
      ],
      "source": [
        "for fruit in fruits:\n",
        "  print(fruit)"
      ]
    },
    {
      "cell_type": "markdown",
      "metadata": {
        "id": "iFZmt2n6wMXW"
      },
      "source": [
        "## Advanced: generator versus list\n",
        "\n",
        "Sometimes actually you don't need to store the result of the transformation.  In this case you can use a generator, which will produce the transformed list items on demand."
      ]
    },
    {
      "cell_type": "code",
      "execution_count": 14,
      "metadata": {
        "colab": {
          "base_uri": "https://localhost:8080/"
        },
        "id": "PfRnRDNfwLhg",
        "outputId": "33082aba-2d64-440b-d03a-5e3e32beca5a"
      },
      "outputs": [
        {
          "output_type": "execute_result",
          "data": {
            "text/plain": [
              "<generator object <genexpr> at 0x7fdaf351cac0>"
            ]
          },
          "metadata": {},
          "execution_count": 14
        }
      ],
      "source": [
        "first_letter = (fruit[0] for fruit in fruits if fruit != 'orange')\n",
        "first_letter"
      ]
    },
    {
      "cell_type": "code",
      "execution_count": 15,
      "metadata": {
        "colab": {
          "base_uri": "https://localhost:8080/"
        },
        "id": "gbD4TAT4wRGz",
        "outputId": "5dabc378-f397-4735-85ab-ebfd0f7109ea"
      },
      "outputs": [
        {
          "output_type": "execute_result",
          "data": {
            "text/plain": [
              "<map at 0x7fdb0056f6d0>"
            ]
          },
          "metadata": {},
          "execution_count": 15
        }
      ],
      "source": [
        "first_letter = map(get_first_letter,fruits)\n",
        "first_letter"
      ]
    },
    {
      "cell_type": "code",
      "execution_count": 16,
      "metadata": {
        "colab": {
          "base_uri": "https://localhost:8080/"
        },
        "id": "NjDZbLeGwTia",
        "outputId": "0be5e4cd-73b5-4689-c568-0c01b551e2ae"
      },
      "outputs": [
        {
          "output_type": "stream",
          "name": "stdout",
          "text": [
            "a\n",
            "o\n",
            "g\n",
            "c\n"
          ]
        }
      ],
      "source": [
        "for w in first_letter:\n",
        "  print(w)"
      ]
    },
    {
      "cell_type": "markdown",
      "metadata": {
        "id": "bBobV-MOfkg5"
      },
      "source": [
        "## Don't initialize variables unnecessarily\n",
        "\n",
        "If you have coded in other languages like Javascript, Java, or C/C++, you may be accustomed to initializing all variables before they are used.  Often this is not necessary in Python (which doesn't have static typing, anyway)."
      ]
    },
    {
      "cell_type": "markdown",
      "metadata": {
        "id": "Y-2t36G7jtha"
      },
      "source": [
        "❌"
      ]
    },
    {
      "cell_type": "code",
      "execution_count": 17,
      "metadata": {
        "colab": {
          "base_uri": "https://localhost:8080/"
        },
        "id": "UJr303vFfncK",
        "outputId": "723a4de6-43f4-49b6-882f-0e82aea54882"
      },
      "outputs": [
        {
          "output_type": "stream",
          "name": "stdout",
          "text": [
            "0\n",
            "1\n",
            "1\n",
            "2\n"
          ]
        }
      ],
      "source": [
        "i = 0 # there is no need to initialize i or j here\n",
        "j = 0\n",
        "for i in range(2):\n",
        "  for j in range(2):\n",
        "    print(i+j)"
      ]
    },
    {
      "cell_type": "markdown",
      "metadata": {
        "id": "_rlPlBXo1jHR"
      },
      "source": [
        "❌"
      ]
    },
    {
      "cell_type": "code",
      "execution_count": 18,
      "metadata": {
        "colab": {
          "base_uri": "https://localhost:8080/"
        },
        "id": "pPczazaq1kNK",
        "outputId": "fc28c0c8-b4b2-4303-d5b0-ad76aee0b008"
      },
      "outputs": [
        {
          "output_type": "execute_result",
          "data": {
            "text/plain": [
              "['d', 'c', 'o']"
            ]
          },
          "metadata": {},
          "execution_count": 18
        }
      ],
      "source": [
        "animals = ['dog','cat','orangutan']\n",
        "animal_first_letters = [] # no need to create an empty list here\n",
        "animal_first_letters = [animal[0] for animal in animals]\n",
        "animal_first_letters"
      ]
    },
    {
      "cell_type": "markdown",
      "metadata": {
        "id": "DAE3zQQLf7j3"
      },
      "source": [
        "## Format strings the Python 3 way\n",
        "\n",
        "In Python 2 you would format strings using C-style format strings.  Python 3 introduce the f-string format which is much more readable."
      ]
    },
    {
      "cell_type": "markdown",
      "metadata": {
        "id": "bAYl7sev2Bba"
      },
      "source": [
        "❌"
      ]
    },
    {
      "cell_type": "code",
      "execution_count": 19,
      "metadata": {
        "id": "csYBWUnm1-1-",
        "colab": {
          "base_uri": "https://localhost:8080/"
        },
        "outputId": "a3cdbfe6-1104-4310-b523-8d678a1a9dce"
      },
      "outputs": [
        {
          "output_type": "stream",
          "name": "stdout",
          "text": [
            "alice likes apple\n",
            "bob likes orange\n",
            "clara likes guava\n"
          ]
        }
      ],
      "source": [
        "names = ['alice','bob','clara']\n",
        "for name,fruit in zip(names,fruits):\n",
        "  s = '%s likes %s'%(name,fruit)\n",
        "  print(s)"
      ]
    },
    {
      "cell_type": "markdown",
      "metadata": {
        "id": "J03ObMDU2J_F"
      },
      "source": [
        "✅"
      ]
    },
    {
      "cell_type": "code",
      "execution_count": 20,
      "metadata": {
        "id": "D646lmeCgZ_I",
        "colab": {
          "base_uri": "https://localhost:8080/"
        },
        "outputId": "f70cdd80-153c-432d-d0a6-10e451e3a0be"
      },
      "outputs": [
        {
          "output_type": "stream",
          "name": "stdout",
          "text": [
            "alice likes apple\n",
            "bob likes orange\n",
            "clara likes guava\n"
          ]
        }
      ],
      "source": [
        "names = ['alice','bob','clara']\n",
        "for name,fruit in zip(names,fruits):\n",
        "  s = f'{name} likes {fruit}'\n",
        "  print(s)"
      ]
    },
    {
      "cell_type": "markdown",
      "metadata": {
        "id": "0jBqfF7Vgjkh"
      },
      "source": [
        "### You can even run Python code inside of the curly brackets!"
      ]
    },
    {
      "cell_type": "code",
      "execution_count": 21,
      "metadata": {
        "id": "blxUeNNcgnrh",
        "colab": {
          "base_uri": "https://localhost:8080/"
        },
        "outputId": "f4e80b88-07a6-4be9-c288-64b51fd8285b"
      },
      "outputs": [
        {
          "output_type": "stream",
          "name": "stdout",
          "text": [
            "a likes a\n",
            "b likes o\n",
            "c likes g\n"
          ]
        }
      ],
      "source": [
        "names = ['alice','bob','clara']\n",
        "for name,fruit in zip(names,fruits):\n",
        "  s = f'{name[0]} likes {fruit[0]}'\n",
        "  print(s)"
      ]
    },
    {
      "cell_type": "code",
      "execution_count": 22,
      "metadata": {
        "id": "LePGG1zShtu9",
        "colab": {
          "base_uri": "https://localhost:8080/"
        },
        "outputId": "d8093bc7-a5b5-4260-bdfb-6e2507d466bc"
      },
      "outputs": [
        {
          "output_type": "stream",
          "name": "stdout",
          "text": [
            "0.0\n",
            "0.3333333333333333\n",
            "0.6666666666666666\n",
            "1.0\n",
            "1.3333333333333333\n",
            "1.6666666666666667\n",
            "2.0\n",
            "2.3333333333333335\n",
            "2.6666666666666665\n",
            "3.0\n"
          ]
        }
      ],
      "source": [
        "for i in range(10):\n",
        "  s = f'{i/3}'\n",
        "  print(s)"
      ]
    },
    {
      "cell_type": "markdown",
      "metadata": {
        "id": "kN8HnIupj7Rf"
      },
      "source": [
        "## Formatting numbers:"
      ]
    },
    {
      "cell_type": "code",
      "execution_count": 23,
      "metadata": {
        "id": "ArZbcjQFh1eF",
        "colab": {
          "base_uri": "https://localhost:8080/"
        },
        "outputId": "1384d4b1-a050-4c86-8a68-0fcac98d6acd"
      },
      "outputs": [
        {
          "output_type": "stream",
          "name": "stdout",
          "text": [
            "0.00\n",
            "0.33\n",
            "0.67\n",
            "1.00\n",
            "1.33\n",
            "1.67\n",
            "2.00\n",
            "2.33\n",
            "2.67\n",
            "3.00\n"
          ]
        }
      ],
      "source": [
        "for i in range(10):\n",
        "  s = f'{i/3:.2f}'\n",
        "  print(s)"
      ]
    },
    {
      "cell_type": "markdown",
      "metadata": {
        "id": "QoW7Ap-JJnLV"
      },
      "source": [
        "# Exercises\n",
        "\n",
        "In the following code exercises, follow the guidance from the lab and write your code to be as compact and Pythonic as you can.\n",
        "\n",
        "Here is some text from a Shakespeare sonnet:"
      ]
    },
    {
      "cell_type": "markdown",
      "metadata": {
        "id": "4wCFklzOJnLV"
      },
      "source": [
        "sonnet = \"\"\"Shall I compare thee to a summer’s day?\n",
        "Thou art more lovely and more temperate.\n",
        "Rough winds do shake the darling buds of May,\n",
        "And summer’s lease hath all too short a date.\"\"\""
      ]
    },
    {
      "cell_type": "markdown",
      "metadata": {
        "id": "oMDB4BbGJnLV"
      },
      "source": [
        "1. Make a list of each word in the text, in lowercase and without punctuation.\n",
        "\n",
        "*Hint: look at Python string functions like `replace`, `lower`, and `split`, if you are not familiar with them.*"
      ]
    },
    {
      "cell_type": "code",
      "execution_count": 29,
      "metadata": {
        "colab": {
          "base_uri": "https://localhost:8080/"
        },
        "id": "W-FtgsJrJnLV",
        "outputId": "7573a538-8aa7-484e-cdf4-bede0e306c4d"
      },
      "outputs": [
        {
          "output_type": "execute_result",
          "data": {
            "text/plain": [
              "['shall',\n",
              " 'i',\n",
              " 'compare',\n",
              " 'thee',\n",
              " 'to',\n",
              " 'a',\n",
              " 'summer’s',\n",
              " 'day',\n",
              " 'thou',\n",
              " 'art',\n",
              " 'more',\n",
              " 'lovely',\n",
              " 'and',\n",
              " 'more',\n",
              " 'temperate',\n",
              " 'rough',\n",
              " 'winds',\n",
              " 'do',\n",
              " 'shake',\n",
              " 'the',\n",
              " 'darling',\n",
              " 'buds',\n",
              " 'of',\n",
              " 'may',\n",
              " 'and',\n",
              " 'summer’s',\n",
              " 'lease',\n",
              " 'hath',\n",
              " 'all',\n",
              " 'too',\n",
              " 'short',\n",
              " 'a',\n",
              " 'date']"
            ]
          },
          "metadata": {},
          "execution_count": 29
        }
      ],
      "source": [
        "import string\n",
        "\n",
        "sonnet = \"\"\"Shall I compare thee to a summer’s day? Thou art more lovely and more temperate. Rough winds do shake the darling buds of May, And summer’s lease hath all too short a date.\"\"\"\n",
        "\n",
        "words = [word.lower().translate(str.maketrans('','', string.punctuation)) for word in sonnet.split(' ')]\n",
        "words"
      ]
    },
    {
      "cell_type": "markdown",
      "metadata": {
        "id": "bIcRgNX3JnLV"
      },
      "source": [
        "2. Make a dictionary where each key is a word in the text and each value is the number of times that word appears in the text.  For example:\n",
        "\n",
        "```\n",
        "shall: 1\n",
        "a: 2\n",
        "...\n",
        "```\n",
        "\n",
        "*Hint: see `str.count()` or the `collections.Counter`.*"
      ]
    },
    {
      "cell_type": "code",
      "execution_count": 30,
      "metadata": {
        "colab": {
          "base_uri": "https://localhost:8080/"
        },
        "id": "FuocSTDwJnLV",
        "outputId": "209cb0e9-d834-45a3-b7c3-05deb3a14c1c"
      },
      "outputs": [
        {
          "output_type": "execute_result",
          "data": {
            "text/plain": [
              "Counter({'shall': 1,\n",
              "         'i': 1,\n",
              "         'compare': 1,\n",
              "         'thee': 1,\n",
              "         'to': 1,\n",
              "         'a': 2,\n",
              "         'summer’s': 2,\n",
              "         'day': 1,\n",
              "         'thou': 1,\n",
              "         'art': 1,\n",
              "         'more': 2,\n",
              "         'lovely': 1,\n",
              "         'and': 2,\n",
              "         'temperate': 1,\n",
              "         'rough': 1,\n",
              "         'winds': 1,\n",
              "         'do': 1,\n",
              "         'shake': 1,\n",
              "         'the': 1,\n",
              "         'darling': 1,\n",
              "         'buds': 1,\n",
              "         'of': 1,\n",
              "         'may': 1,\n",
              "         'lease': 1,\n",
              "         'hath': 1,\n",
              "         'all': 1,\n",
              "         'too': 1,\n",
              "         'short': 1,\n",
              "         'date': 1})"
            ]
          },
          "metadata": {},
          "execution_count": 30
        }
      ],
      "source": [
        "from collections import Counter\n",
        "word_counts = Counter(words)\n",
        "word_counts"
      ]
    },
    {
      "cell_type": "markdown",
      "metadata": {
        "id": "E-lqKgsaJnLV"
      },
      "source": [
        "Here's a list of numbers:"
      ]
    },
    {
      "cell_type": "code",
      "execution_count": 32,
      "metadata": {
        "id": "7i3StYPKJnLW"
      },
      "outputs": [],
      "source": [
        "numbers = [3,57,923,402,15,345,2,456,678,453,23,455,7,5,44,3,345,555,566]"
      ]
    },
    {
      "cell_type": "markdown",
      "metadata": {
        "id": "HP-_VIcxJnLW"
      },
      "source": [
        "3. Make a list of Booleans indicating whether each number is odd."
      ]
    },
    {
      "cell_type": "code",
      "execution_count": 34,
      "metadata": {
        "colab": {
          "base_uri": "https://localhost:8080/"
        },
        "id": "0GU-zEveJnLW",
        "outputId": "d95810fb-0150-473b-fb5b-05761b8d1ec5"
      },
      "outputs": [
        {
          "output_type": "execute_result",
          "data": {
            "text/plain": [
              "[True,\n",
              " True,\n",
              " True,\n",
              " False,\n",
              " True,\n",
              " True,\n",
              " False,\n",
              " False,\n",
              " False,\n",
              " True,\n",
              " True,\n",
              " True,\n",
              " True,\n",
              " True,\n",
              " False,\n",
              " True,\n",
              " True,\n",
              " True,\n",
              " False]"
            ]
          },
          "metadata": {},
          "execution_count": 34
        }
      ],
      "source": [
        "even_odd = [number % 2 != 0 for number in numbers]\n",
        "even_odd"
      ]
    },
    {
      "cell_type": "markdown",
      "metadata": {
        "id": "YQZvPj_xJnLW"
      },
      "source": [
        "4. Make a list of only the odd numbers."
      ]
    },
    {
      "cell_type": "code",
      "execution_count": 36,
      "metadata": {
        "colab": {
          "base_uri": "https://localhost:8080/"
        },
        "id": "bE4Swa_gJnLW",
        "outputId": "19ae159d-b410-40c2-8d34-c14ad9252288"
      },
      "outputs": [
        {
          "output_type": "execute_result",
          "data": {
            "text/plain": [
              "[3, 57, 923, 15, 345, 453, 23, 455, 7, 5, 3, 345, 555]"
            ]
          },
          "metadata": {},
          "execution_count": 36
        }
      ],
      "source": [
        "odds_only = [number for number in numbers if number % 2 != 0]\n",
        "odds_only"
      ]
    },
    {
      "cell_type": "markdown",
      "metadata": {
        "id": "TixooLIyJnLW"
      },
      "source": [
        "5. Print whether each number is odd or even.  The output should look like this:\n",
        "\n",
        "```\n",
        "3 is odd\n",
        "57 is odd\n",
        "923 is odd\n",
        "402 is even\n",
        "...\n",
        "```"
      ]
    },
    {
      "cell_type": "code",
      "execution_count": 38,
      "metadata": {
        "colab": {
          "base_uri": "https://localhost:8080/"
        },
        "id": "nkMUwg5GJnLW",
        "outputId": "e02a9b4c-ffb4-45c7-8747-4b05d9d59745"
      },
      "outputs": [
        {
          "output_type": "stream",
          "name": "stdout",
          "text": [
            "3 is odd\n",
            "57 is odd\n",
            "923 is odd\n",
            "402 is even\n",
            "15 is odd\n",
            "345 is odd\n",
            "2 is even\n",
            "456 is even\n",
            "678 is even\n",
            "453 is odd\n",
            "23 is odd\n",
            "455 is odd\n",
            "7 is odd\n",
            "5 is odd\n",
            "44 is even\n",
            "3 is odd\n",
            "345 is odd\n",
            "555 is odd\n",
            "566 is even\n"
          ]
        }
      ],
      "source": [
        "for number in numbers:\n",
        "    print(f'{number} is {\"odd\" if number % 2 != 0 else \"even\"}')"
      ]
    }
  ],
  "metadata": {
    "colab": {
      "provenance": []
    },
    "kernelspec": {
      "display_name": ".venv",
      "language": "python",
      "name": "python3"
    },
    "language_info": {
      "codemirror_mode": {
        "name": "ipython",
        "version": 3
      },
      "file_extension": ".py",
      "mimetype": "text/x-python",
      "name": "python",
      "nbconvert_exporter": "python",
      "pygments_lexer": "ipython3",
      "version": "3.9.6"
    }
  },
  "nbformat": 4,
  "nbformat_minor": 0
}