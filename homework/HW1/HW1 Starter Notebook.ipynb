{
  "cells": [
    {
      "cell_type": "code",
      "execution_count": 1,
      "metadata": {
        "id": "5OUW75f1w56j"
      },
      "outputs": [],
      "source": [
        "import numpy as np\n",
        "import sklearn\n",
        "import torch\n",
        "import os\n",
        "import matplotlib.pyplot as plt\n"
      ]
    },
    {
      "cell_type": "code",
      "execution_count": 2,
      "metadata": {
        "id": "CNAG8fBHw_ns"
      },
      "outputs": [],
      "source": [
        "if not os.path.exists('tree_species_classifier_data.npz'):\n",
        "  !wget -O tree_species_classifier_data.npz \"https://www.dropbox.com/scl/fi/b7mw23k3ifaeui9m8nnn3/tree_species_classifier_data.npz?rlkey=bgxp37c1t04i7q35waf3slc26&dl=1\""
      ]
    },
    {
      "cell_type": "code",
      "execution_count": 3,
      "metadata": {
        "id": "XSnb9owtxT5w"
      },
      "outputs": [],
      "source": [
        "data = np.load('tree_species_classifier_data.npz')\n",
        "train_features = data['train_features']\n",
        "train_labels = data['train_labels']\n",
        "test_features = data['test_features']\n",
        "test_labels = data['test_labels']"
      ]
    },
    {
      "cell_type": "markdown",
      "source": [
        "# 1. Inspecting Data"
      ],
      "metadata": {
        "id": "eUBUxt1wVv2m"
      }
    },
    {
      "cell_type": "code",
      "source": [
        "# Shapes of matricies\n",
        "print('Shapes of Matricies')\n",
        "\n",
        "## Training matricies\n",
        "print(f'Train Features shape: {train_features.shape}')\n",
        "print(f'Train Labels shape: {train_labels.shape}\\n')\n",
        "\n",
        "## Test matricies\n",
        "print(f'Test Features shape: {test_features.shape}')\n",
        "print(f'Test Labels shape: {test_labels.shape}')"
      ],
      "metadata": {
        "colab": {
          "base_uri": "https://localhost:8080/"
        },
        "id": "flZpyOKIvd9W",
        "outputId": "ca277535-86af-4778-bc55-ab43f2867833"
      },
      "execution_count": 4,
      "outputs": [
        {
          "output_type": "stream",
          "name": "stdout",
          "text": [
            "Shapes of Matricies\n",
            "Train Features shape: (15707, 426)\n",
            "Train Labels shape: (15707,)\n",
            "\n",
            "Test Features shape: (1554, 426)\n",
            "Test Labels shape: (1554,)\n"
          ]
        }
      ]
    },
    {
      "cell_type": "code",
      "source": [
        "# Types of matricies\n",
        "print('Types of Matricies')\n",
        "\n",
        "## Training matricies\n",
        "print(f'Train Features type: {train_features.dtype}')\n",
        "print(f'Train Labels type: {train_labels.dtype}\\n')\n",
        "\n",
        "## Test matricies\n",
        "print(f'Test Features type: {test_features.dtype}')\n",
        "print(f'Test Labels type: {test_labels.dtype}')"
      ],
      "metadata": {
        "colab": {
          "base_uri": "https://localhost:8080/"
        },
        "id": "xV8dKVyYv5yT",
        "outputId": "e02ed7a1-560b-42e8-94ea-0fdec9745e52"
      },
      "execution_count": 5,
      "outputs": [
        {
          "output_type": "stream",
          "name": "stdout",
          "text": [
            "Types of Matricies\n",
            "Train Features type: int16\n",
            "Train Labels type: uint8\n",
            "\n",
            "Test Features type: int16\n",
            "Test Labels type: uint8\n"
          ]
        }
      ]
    },
    {
      "cell_type": "code",
      "source": [
        "# Feature Ranges\n",
        "print('Feature Ranges')\n",
        "\n",
        "print(f\"Train Min: {train_features.min()}, Train Max: {train_features.max()}\")\n",
        "print(f\"Test Min: {test_features.min()}, Test Max: {test_features.max()}\")"
      ],
      "metadata": {
        "colab": {
          "base_uri": "https://localhost:8080/"
        },
        "id": "Cb7CHUX2018P",
        "outputId": "9c7a490b-59de-4e75-bd66-b369a96ea07b"
      },
      "execution_count": 6,
      "outputs": [
        {
          "output_type": "stream",
          "name": "stdout",
          "text": [
            "Feature Ranges\n",
            "Train Min: 0, Train Max: 14998\n",
            "Test Min: 0, Test Max: 6908\n"
          ]
        }
      ]
    },
    {
      "cell_type": "code",
      "source": [
        "plt.hist(train_features.flatten(), bins=100, alpha=.7, label='Train Features')\n",
        "plt.hist(test_features.flatten(), bins=100, alpha=.7, label='Test Features')\n",
        "plt.title('Feature Value Distribution')\n",
        "plt.xlabel('Feature Value')\n",
        "plt.ylabel('Count')\n",
        "plt.legend()"
      ],
      "metadata": {
        "colab": {
          "base_uri": "https://localhost:8080/",
          "height": 489
        },
        "id": "wqlKmqXiGED5",
        "outputId": "b2738e27-3719-49c3-ce2a-57c12bb99529"
      },
      "execution_count": 7,
      "outputs": [
        {
          "output_type": "execute_result",
          "data": {
            "text/plain": [
              "<matplotlib.legend.Legend at 0x7a80f63f7c50>"
            ]
          },
          "metadata": {},
          "execution_count": 7
        },
        {
          "output_type": "display_data",
          "data": {
            "text/plain": [
              "<Figure size 640x480 with 1 Axes>"
            ],
            "image/png": "[encoded data removed]"
          },
          "metadata": {}
        }
      ]
    },
    {
      "cell_type": "code",
      "source": [
        "# Train Distribution\n",
        "print(\"Train Distribution\")\n",
        "\n",
        "train_unique, train_counts = np.unique(train_labels, return_counts=True)\n",
        "print(f'Train Labels: {dict(zip(train_unique, train_counts))}')"
      ],
      "metadata": {
        "colab": {
          "base_uri": "https://localhost:8080/"
        },
        "id": "M2IIS450EhjJ",
        "outputId": "62f384fb-7d84-4280-9d37-3047b7db0401"
      },
      "execution_count": 8,
      "outputs": [
        {
          "output_type": "stream",
          "name": "stdout",
          "text": [
            "Train Distribution\n",
            "Train Labels: {0: 2519, 1: 821, 2: 1575, 3: 3980, 4: 2640, 5: 88, 6: 852, 7: 3232}\n"
          ]
        }
      ]
    },
    {
      "cell_type": "code",
      "source": [
        "# Test Distribution\n",
        "print(\"Test Distribution\")\n",
        "\n",
        "test_unique, test_counts = np.unique(test_labels, return_counts=True)\n",
        "print(f'Test Labels: {dict(zip(test_unique, test_counts))}')"
      ],
      "metadata": {
        "colab": {
          "base_uri": "https://localhost:8080/"
        },
        "id": "A0k9kY6jExAO",
        "outputId": "edfc1323-0b2b-443f-a5e6-e90866427254"
      },
      "execution_count": 9,
      "outputs": [
        {
          "output_type": "stream",
          "name": "stdout",
          "text": [
            "Test Distribution\n",
            "Test Labels: {0: 389, 1: 30, 2: 278, 3: 404, 4: 100, 5: 22, 6: 43, 7: 288}\n"
          ]
        }
      ]
    },
    {
      "cell_type": "code",
      "source": [
        "plt.bar(train_unique, train_counts, label='Train Labels')\n",
        "plt.bar(test_unique, test_counts, label='Test Labels')\n",
        "plt.title('Label Distribution')\n",
        "plt.xlabel('Label')\n",
        "plt.ylabel('Count')\n",
        "plt.legend()"
      ],
      "metadata": {
        "colab": {
          "base_uri": "https://localhost:8080/",
          "height": 489
        },
        "id": "ywnB8k6wIXbo",
        "outputId": "804c4a18-4ae5-49c9-fc7c-c82da1a70711"
      },
      "execution_count": 10,
      "outputs": [
        {
          "output_type": "execute_result",
          "data": {
            "text/plain": [
              "<matplotlib.legend.Legend at 0x7a80f4e82ad0>"
            ]
          },
          "metadata": {},
          "execution_count": 10
        },
        {
          "output_type": "display_data",
          "data": {
            "text/plain": [
              "<Figure size 640x480 with 1 Axes>"
            ],
            "image/png": "[encoded data removed]"
          },
          "metadata": {}
        }
      ]
    },
    {
      "cell_type": "markdown",
      "source": [
        "# 2. Pre-process Data (PCA)"
      ],
      "metadata": {
        "id": "7IZ1MRVIVy9L"
      }
    },
    {
      "cell_type": "code",
      "source": [
        "from sklearn.decomposition import PCA"
      ],
      "metadata": {
        "id": "sXYl4QKsV4ql"
      },
      "execution_count": 11,
      "outputs": []
    },
    {
      "cell_type": "code",
      "source": [
        "pca = PCA(n_components=32, whiten=True)\n",
        "\n",
        "train_features_pca = pca.fit_transform(train_features)\n",
        "test_features_pca = pca.transform(test_features)\n",
        "\n",
        "print(f'Train Features shape: {train_features_pca.shape}')\n",
        "print(f'Test Features shape: {test_features_pca.shape}')"
      ],
      "metadata": {
        "colab": {
          "base_uri": "https://localhost:8080/"
        },
        "id": "g_BuXY8yV_JU",
        "outputId": "5e99232e-4a12-4c30-accd-4e0c7b4007ac"
      },
      "execution_count": 12,
      "outputs": [
        {
          "output_type": "stream",
          "name": "stdout",
          "text": [
            "Train Features shape: (15707, 32)\n",
            "Test Features shape: (1554, 32)\n"
          ]
        }
      ]
    },
    {
      "cell_type": "markdown",
      "source": [
        "# 3. Create Sci-kit learn Classifiers"
      ],
      "metadata": {
        "id": "WynAHK9kZYfO"
      }
    },
    {
      "cell_type": "code",
      "source": [
        "from sklearn.linear_model import LogisticRegression\n",
        "from sklearn.neural_network import MLPClassifier\n",
        "from sklearn.metrics import accuracy_score\n",
        "from sklearn.model_selection import cross_val_score"
      ],
      "metadata": {
        "id": "c2E2SUPnWCo0"
      },
      "execution_count": 13,
      "outputs": []
    },
    {
      "cell_type": "code",
      "source": [
        "linear_scikit = LogisticRegression()\n",
        "linear_scikit.fit(train_features_pca, train_labels)\n",
        "linear_scikit_preds = linear_scikit.predict(test_features_pca)\n",
        "linear_scikit_acc = accuracy_score(test_labels, linear_scikit_preds)\n",
        "print(f\"Linear Classifier Test Accuracy: {linear_scikit_acc}\")"
      ],
      "metadata": {
        "colab": {
          "base_uri": "https://localhost:8080/"
        },
        "id": "TFNMQ9P7ZmuU",
        "outputId": "e69239b9-9145-4696-e7af-c5af8f3f94d2"
      },
      "execution_count": 14,
      "outputs": [
        {
          "output_type": "stream",
          "name": "stdout",
          "text": [
            "Linear Classifier Test Accuracy: 0.833976833976834\n"
          ]
        }
      ]
    },
    {
      "cell_type": "code",
      "source": [
        "nn_scikit = MLPClassifier(hidden_layer_sizes=(100, 100, 100))\n",
        "nn_scikit.fit(train_features_pca, train_labels)\n",
        "nn_scikit_preds = nn_scikit.predict(test_features_pca)\n",
        "nn_scikit_acc = accuracy_score(test_labels, nn_scikit_preds)\n",
        "print(f\"Neural Network Classifier Test Accuracy: {nn_scikit_acc}\")"
      ],
      "metadata": {
        "colab": {
          "base_uri": "https://localhost:8080/"
        },
        "id": "IDVcp5MxaUbn",
        "outputId": "af9a219b-dbaf-4b8e-8450-277a16cb9ac7"
      },
      "execution_count": 15,
      "outputs": [
        {
          "output_type": "stream",
          "name": "stdout",
          "text": [
            "Neural Network Classifier Test Accuracy: 0.8262548262548263\n"
          ]
        }
      ]
    },
    {
      "cell_type": "markdown",
      "source": [
        "# 4. Create Torch Models"
      ],
      "metadata": {
        "id": "u1rfk5VOeqLP"
      }
    },
    {
      "cell_type": "code",
      "source": [
        "import torch\n",
        "from torch.utils.data import DataLoader, TensorDataset\n",
        "import torch.nn as nn\n",
        "import torch.optim as optim"
      ],
      "metadata": {
        "id": "fonAgJq_e5yW"
      },
      "execution_count": 16,
      "outputs": []
    },
    {
      "cell_type": "code",
      "source": [
        "def preprocess_data():\n",
        "    train_data = TensorDataset(\n",
        "        torch.tensor(train_features_pca, dtype=torch.float32),\n",
        "        torch.tensor(train_labels, dtype=torch.long)\n",
        "    )\n",
        "\n",
        "    test_data = TensorDataset(\n",
        "        torch.tensor(test_features_pca, dtype=torch.float32),\n",
        "        torch.tensor(test_labels, dtype=torch.long)\n",
        "    )\n",
        "    train_loader = DataLoader(train_data, batch_size=32, shuffle=True)\n",
        "    test_loader = DataLoader(test_data, batch_size=32, shuffle=False)\n",
        "    return train_loader, test_loader\n"
      ],
      "metadata": {
        "id": "IP2iwS-SfBMb"
      },
      "execution_count": 17,
      "outputs": []
    },
    {
      "cell_type": "code",
      "source": [
        "def accuracy(model, data_loader):\n",
        "    model.eval()\n",
        "    correct = total = 0\n",
        "    with torch.no_grad():\n",
        "        for features, labels in data_loader:\n",
        "            outputs = model(features)\n",
        "            _, predicted = torch.max(outputs.data, 1)\n",
        "            total += labels.size(0)\n",
        "            correct += (predicted == labels).sum().item()\n",
        "    return correct/total"
      ],
      "metadata": {
        "id": "3rU18PF7fq2_"
      },
      "execution_count": 18,
      "outputs": []
    },
    {
      "cell_type": "code",
      "source": [
        "def train_model(model, train_loader, test_loader, epochs=100, lr=1e-2, weight_decay=1e-3):\n",
        "    optimizer = optim.SGD(model.parameters(), lr=lr, weight_decay=weight_decay)\n",
        "    ce = nn.CrossEntropyLoss()\n",
        "\n",
        "    for epoch in range(epochs):\n",
        "        model.train()\n",
        "        for features, labels in train_loader:\n",
        "            optimizer.zero_grad()\n",
        "            outputs = model(features)\n",
        "            loss = ce(outputs, labels)\n",
        "            loss.backward()\n",
        "            optimizer.step()\n",
        "\n",
        "        train_acc = accuracy(model, train_loader)\n",
        "        test_acc = accuracy(model, test_loader)\n",
        "        print(f'Epoch {epoch+1}/{epochs}, Train Accuracy: {train_acc}, Test Accuracy: {test_acc}')"
      ],
      "metadata": {
        "id": "VlL-G93dgX1s"
      },
      "execution_count": 19,
      "outputs": []
    },
    {
      "cell_type": "code",
      "source": [
        "class LinearModel(nn.Module):\n",
        "    def __init__(self, input_size, output_size):\n",
        "        super().__init__()\n",
        "        self.fc = nn.Linear(input_size, output_size)\n",
        "\n",
        "    def forward(self, x):\n",
        "        return self.fc(x)"
      ],
      "metadata": {
        "id": "3MfaRa4xhxtz"
      },
      "execution_count": 20,
      "outputs": []
    },
    {
      "cell_type": "code",
      "source": [
        "class NeuralNetwork(nn.Module):\n",
        "    def __init__(self, input_size, output_size):\n",
        "        super().__init__()\n",
        "        self.model = nn.Sequential(\n",
        "            nn.Linear(input_size, 100),\n",
        "            nn.ReLU(),\n",
        "            nn.Linear(100, 100),\n",
        "            nn.ReLU(),\n",
        "            nn.Linear(100, output_size)\n",
        "        )\n",
        "\n",
        "    def forward(self, x):\n",
        "        return self.model(x)"
      ],
      "metadata": {
        "id": "M5yuiAXwieBX"
      },
      "execution_count": 21,
      "outputs": []
    },
    {
      "cell_type": "code",
      "source": [
        "train_loader, test_loader = preprocess_data()\n",
        "\n",
        "linear_model = LinearModel(32, 8)\n",
        "train_model(linear_model, train_loader, test_loader)\n"
      ],
      "metadata": {
        "colab": {
          "base_uri": "https://localhost:8080/"
        },
        "id": "z6u2PUOpjSRf",
        "outputId": "e7fcdff2-15bf-4ea4-ab12-03998c816572"
      },
      "execution_count": 22,
      "outputs": [
        {
          "output_type": "stream",
          "name": "stdout",
          "text": [
            "Epoch 1/100, Train Accuracy: 0.7609982810212007, Test Accuracy: 0.7625482625482626\n",
            "Epoch 2/100, Train Accuracy: 0.7936588782071687, Test Accuracy: 0.7972972972972973\n",
            "Epoch 3/100, Train Accuracy: 0.806646718023811, Test Accuracy: 0.8075933075933076\n",
            "Epoch 4/100, Train Accuracy: 0.8155599414273891, Test Accuracy: 0.8063063063063063\n",
            "Epoch 5/100, Train Accuracy: 0.8221175272171644, Test Accuracy: 0.8082368082368082\n",
            "Epoch 6/100, Train Accuracy: 0.8260011459858662, Test Accuracy: 0.8088803088803089\n",
            "Epoch 7/100, Train Accuracy: 0.8301394282803846, Test Accuracy: 0.8114543114543115\n",
            "Epoch 8/100, Train Accuracy: 0.8316037435538295, Test Accuracy: 0.8108108108108109\n",
            "Epoch 9/100, Train Accuracy: 0.833322722353091, Test Accuracy: 0.8133848133848134\n",
            "Epoch 10/100, Train Accuracy: 0.8340230470490864, Test Accuracy: 0.8153153153153153\n",
            "Epoch 11/100, Train Accuracy: 0.8344050423378112, Test Accuracy: 0.8178893178893178\n",
            "Epoch 12/100, Train Accuracy: 0.8357420258483479, Test Accuracy: 0.8172458172458172\n",
            "Epoch 13/100, Train Accuracy: 0.8372063411217928, Test Accuracy: 0.8178893178893178\n",
            "Epoch 14/100, Train Accuracy: 0.8378429999363342, Test Accuracy: 0.8178893178893178\n",
            "Epoch 15/100, Train Accuracy: 0.8388616540396002, Test Accuracy: 0.8191763191763192\n",
            "Epoch 16/100, Train Accuracy: 0.839243649328325, Test Accuracy: 0.8185328185328186\n",
            "Epoch 17/100, Train Accuracy: 0.8388616540396002, Test Accuracy: 0.8185328185328186\n",
            "Epoch 18/100, Train Accuracy: 0.8396256446170497, Test Accuracy: 0.8172458172458172\n",
            "Epoch 19/100, Train Accuracy: 0.8403259693130452, Test Accuracy: 0.8191763191763192\n",
            "Epoch 20/100, Train Accuracy: 0.840771630483224, Test Accuracy: 0.8211068211068211\n",
            "Epoch 21/100, Train Accuracy: 0.8411536257719489, Test Accuracy: 0.8223938223938224\n",
            "Epoch 22/100, Train Accuracy: 0.8414719551792195, Test Accuracy: 0.8243243243243243\n",
            "Epoch 23/100, Train Accuracy: 0.8420449481123066, Test Accuracy: 0.8256113256113257\n",
            "Epoch 24/100, Train Accuracy: 0.8422996116381232, Test Accuracy: 0.8268983268983269\n",
            "Epoch 25/100, Train Accuracy: 0.842745272808302, Test Accuracy: 0.8268983268983269\n",
            "Epoch 26/100, Train Accuracy: 0.8433819316228434, Test Accuracy: 0.8301158301158301\n",
            "Epoch 27/100, Train Accuracy: 0.843700261030114, Test Accuracy: 0.8294723294723295\n",
            "Epoch 28/100, Train Accuracy: 0.8438275927930222, Test Accuracy: 0.8268983268983269\n",
            "Epoch 29/100, Train Accuracy: 0.8440185904373846, Test Accuracy: 0.8275418275418276\n",
            "Epoch 30/100, Train Accuracy: 0.844209588081747, Test Accuracy: 0.8275418275418276\n",
            "Epoch 31/100, Train Accuracy: 0.8440185904373846, Test Accuracy: 0.8268983268983269\n",
            "Epoch 32/100, Train Accuracy: 0.844209588081747, Test Accuracy: 0.8275418275418276\n",
            "Epoch 33/100, Train Accuracy: 0.8445915833704718, Test Accuracy: 0.8275418275418276\n",
            "Epoch 34/100, Train Accuracy: 0.84471891513338, Test Accuracy: 0.8281853281853282\n",
            "Epoch 35/100, Train Accuracy: 0.845228242185013, Test Accuracy: 0.8288288288288288\n",
            "Epoch 36/100, Train Accuracy: 0.8453555739479213, Test Accuracy: 0.8275418275418276\n",
            "Epoch 37/100, Train Accuracy: 0.845673903355192, Test Accuracy: 0.8281853281853282\n",
            "Epoch 38/100, Train Accuracy: 0.8456102374737379, Test Accuracy: 0.8275418275418276\n",
            "Epoch 39/100, Train Accuracy: 0.8454829057108295, Test Accuracy: 0.8268983268983269\n",
            "Epoch 40/100, Train Accuracy: 0.8460558986439167, Test Accuracy: 0.8256113256113257\n",
            "Epoch 41/100, Train Accuracy: 0.8459922327624626, Test Accuracy: 0.8262548262548263\n",
            "Epoch 42/100, Train Accuracy: 0.8462468962882791, Test Accuracy: 0.8262548262548263\n",
            "Epoch 43/100, Train Accuracy: 0.8463742280511873, Test Accuracy: 0.8256113256113257\n",
            "Epoch 44/100, Train Accuracy: 0.8462468962882791, Test Accuracy: 0.8262548262548263\n",
            "Epoch 45/100, Train Accuracy: 0.8465015598140956, Test Accuracy: 0.8262548262548263\n",
            "Epoch 46/100, Train Accuracy: 0.8465652256955497, Test Accuracy: 0.8256113256113257\n",
            "Epoch 47/100, Train Accuracy: 0.8466288915770038, Test Accuracy: 0.8256113256113257\n",
            "Epoch 48/100, Train Accuracy: 0.8465652256955497, Test Accuracy: 0.824967824967825\n",
            "Epoch 49/100, Train Accuracy: 0.8467562233399122, Test Accuracy: 0.8243243243243243\n",
            "Epoch 50/100, Train Accuracy: 0.8465652256955497, Test Accuracy: 0.8243243243243243\n",
            "Epoch 51/100, Train Accuracy: 0.8465652256955497, Test Accuracy: 0.824967824967825\n",
            "Epoch 52/100, Train Accuracy: 0.8465015598140956, Test Accuracy: 0.8243243243243243\n",
            "Epoch 53/100, Train Accuracy: 0.8466288915770038, Test Accuracy: 0.8256113256113257\n",
            "Epoch 54/100, Train Accuracy: 0.8469472209842746, Test Accuracy: 0.8262548262548263\n",
            "Epoch 55/100, Train Accuracy: 0.8469472209842746, Test Accuracy: 0.8268983268983269\n",
            "Epoch 56/100, Train Accuracy: 0.8466925574584581, Test Accuracy: 0.8281853281853282\n",
            "Epoch 57/100, Train Accuracy: 0.8466925574584581, Test Accuracy: 0.8268983268983269\n",
            "Epoch 58/100, Train Accuracy: 0.8467562233399122, Test Accuracy: 0.8275418275418276\n",
            "Epoch 59/100, Train Accuracy: 0.8467562233399122, Test Accuracy: 0.8268983268983269\n",
            "Epoch 60/100, Train Accuracy: 0.8467562233399122, Test Accuracy: 0.8262548262548263\n",
            "Epoch 61/100, Train Accuracy: 0.8470745527471828, Test Accuracy: 0.8262548262548263\n",
            "Epoch 62/100, Train Accuracy: 0.8471382186286369, Test Accuracy: 0.8262548262548263\n",
            "Epoch 63/100, Train Accuracy: 0.8470108868657287, Test Accuracy: 0.8256113256113257\n",
            "Epoch 64/100, Train Accuracy: 0.8473292162729993, Test Accuracy: 0.8262548262548263\n",
            "Epoch 65/100, Train Accuracy: 0.8472655503915452, Test Accuracy: 0.8268983268983269\n",
            "Epoch 66/100, Train Accuracy: 0.8475202139173617, Test Accuracy: 0.8262548262548263\n",
            "Epoch 67/100, Train Accuracy: 0.8475838797988158, Test Accuracy: 0.8262548262548263\n",
            "Epoch 68/100, Train Accuracy: 0.8473292162729993, Test Accuracy: 0.8275418275418276\n",
            "Epoch 69/100, Train Accuracy: 0.8475838797988158, Test Accuracy: 0.8281853281853282\n",
            "Epoch 70/100, Train Accuracy: 0.8473928821544534, Test Accuracy: 0.8275418275418276\n",
            "Epoch 71/100, Train Accuracy: 0.8473292162729993, Test Accuracy: 0.8275418275418276\n",
            "Epoch 72/100, Train Accuracy: 0.8477748774431783, Test Accuracy: 0.824967824967825\n",
            "Epoch 73/100, Train Accuracy: 0.8475838797988158, Test Accuracy: 0.8256113256113257\n",
            "Epoch 74/100, Train Accuracy: 0.8473928821544534, Test Accuracy: 0.8256113256113257\n",
            "Epoch 75/100, Train Accuracy: 0.8478385433246324, Test Accuracy: 0.8256113256113257\n",
            "Epoch 76/100, Train Accuracy: 0.847711211561724, Test Accuracy: 0.8256113256113257\n",
            "Epoch 77/100, Train Accuracy: 0.8479658750875406, Test Accuracy: 0.8268983268983269\n",
            "Epoch 78/100, Train Accuracy: 0.8478385433246324, Test Accuracy: 0.8262548262548263\n",
            "Epoch 79/100, Train Accuracy: 0.8477748774431783, Test Accuracy: 0.8268983268983269\n",
            "Epoch 80/100, Train Accuracy: 0.8479022092060865, Test Accuracy: 0.8256113256113257\n",
            "Epoch 81/100, Train Accuracy: 0.8477748774431783, Test Accuracy: 0.8262548262548263\n",
            "Epoch 82/100, Train Accuracy: 0.8477748774431783, Test Accuracy: 0.8268983268983269\n",
            "Epoch 83/100, Train Accuracy: 0.847711211561724, Test Accuracy: 0.8268983268983269\n",
            "Epoch 84/100, Train Accuracy: 0.8480295409689947, Test Accuracy: 0.8268983268983269\n",
            "Epoch 85/100, Train Accuracy: 0.8477748774431783, Test Accuracy: 0.8268983268983269\n",
            "Epoch 86/100, Train Accuracy: 0.8480295409689947, Test Accuracy: 0.8268983268983269\n",
            "Epoch 87/100, Train Accuracy: 0.8480295409689947, Test Accuracy: 0.8281853281853282\n",
            "Epoch 88/100, Train Accuracy: 0.848156872731903, Test Accuracy: 0.8262548262548263\n",
            "Epoch 89/100, Train Accuracy: 0.8482205386133571, Test Accuracy: 0.8262548262548263\n",
            "Epoch 90/100, Train Accuracy: 0.8482205386133571, Test Accuracy: 0.8275418275418276\n",
            "Epoch 91/100, Train Accuracy: 0.8476475456802699, Test Accuracy: 0.8275418275418276\n",
            "Epoch 92/100, Train Accuracy: 0.8475202139173617, Test Accuracy: 0.8275418275418276\n",
            "Epoch 93/100, Train Accuracy: 0.847711211561724, Test Accuracy: 0.8275418275418276\n",
            "Epoch 94/100, Train Accuracy: 0.8478385433246324, Test Accuracy: 0.8275418275418276\n",
            "Epoch 95/100, Train Accuracy: 0.847711211561724, Test Accuracy: 0.8275418275418276\n",
            "Epoch 96/100, Train Accuracy: 0.8478385433246324, Test Accuracy: 0.8275418275418276\n",
            "Epoch 97/100, Train Accuracy: 0.8480932068504489, Test Accuracy: 0.8268983268983269\n",
            "Epoch 98/100, Train Accuracy: 0.8480295409689947, Test Accuracy: 0.8275418275418276\n",
            "Epoch 99/100, Train Accuracy: 0.8482842044948112, Test Accuracy: 0.8281853281853282\n",
            "Epoch 100/100, Train Accuracy: 0.8482842044948112, Test Accuracy: 0.8288288288288288\n"
          ]
        }
      ]
    },
    {
      "cell_type": "code",
      "source": [
        "\n",
        "nn_model = NeuralNetwork(32, 8)\n",
        "train_model(nn_model, train_loader, test_loader)"
      ],
      "metadata": {
        "colab": {
          "base_uri": "https://localhost:8080/"
        },
        "id": "mpmCDAmgkAeq",
        "outputId": "7fdd6b64-2114-43c7-9582-91775f41b308"
      },
      "execution_count": 23,
      "outputs": [
        {
          "output_type": "stream",
          "name": "stdout",
          "text": [
            "Epoch 1/100, Train Accuracy: 0.43381931622843317, Test Accuracy: 0.4202059202059202\n",
            "Epoch 2/100, Train Accuracy: 0.6916024702362005, Test Accuracy: 0.7014157014157014\n",
            "Epoch 3/100, Train Accuracy: 0.7717578149869485, Test Accuracy: 0.7953667953667953\n",
            "Epoch 4/100, Train Accuracy: 0.8049277392245495, Test Accuracy: 0.8166023166023166\n",
            "Epoch 5/100, Train Accuracy: 0.8256191506971414, Test Accuracy: 0.8166023166023166\n",
            "Epoch 6/100, Train Accuracy: 0.841726618705036, Test Accuracy: 0.8326898326898327\n",
            "Epoch 7/100, Train Accuracy: 0.8500031832940728, Test Accuracy: 0.8384813384813384\n",
            "Epoch 8/100, Train Accuracy: 0.8565607690838479, Test Accuracy: 0.8410553410553411\n",
            "Epoch 9/100, Train Accuracy: 0.8606353854969122, Test Accuracy: 0.8397683397683398\n",
            "Epoch 10/100, Train Accuracy: 0.8637550136881645, Test Accuracy: 0.8455598455598455\n",
            "Epoch 11/100, Train Accuracy: 0.8673203030495957, Test Accuracy: 0.8455598455598455\n",
            "Epoch 12/100, Train Accuracy: 0.8697396065448526, Test Accuracy: 0.8487773487773488\n",
            "Epoch 13/100, Train Accuracy: 0.8731775641433756, Test Accuracy: 0.8532818532818532\n",
            "Epoch 14/100, Train Accuracy: 0.8759151970459031, Test Accuracy: 0.8494208494208494\n",
            "Epoch 15/100, Train Accuracy: 0.8793531546444261, Test Accuracy: 0.8481338481338482\n",
            "Epoch 16/100, Train Accuracy: 0.8824091169542242, Test Accuracy: 0.8507078507078507\n",
            "Epoch 17/100, Train Accuracy: 0.8836824345833068, Test Accuracy: 0.8603603603603603\n",
            "Epoch 18/100, Train Accuracy: 0.8851467498567518, Test Accuracy: 0.8545688545688546\n",
            "Epoch 19/100, Train Accuracy: 0.886738396893105, Test Accuracy: 0.8584298584298584\n",
            "Epoch 20/100, Train Accuracy: 0.8890940345069077, Test Accuracy: 0.8597168597168597\n",
            "Epoch 21/100, Train Accuracy: 0.8899216909658114, Test Accuracy: 0.859073359073359\n",
            "Epoch 22/100, Train Accuracy: 0.8901126886101738, Test Accuracy: 0.8635778635778636\n",
            "Epoch 23/100, Train Accuracy: 0.8937416438530591, Test Accuracy: 0.8552123552123552\n",
            "Epoch 24/100, Train Accuracy: 0.8929139873941555, Test Accuracy: 0.8603603603603603\n",
            "Epoch 25/100, Train Accuracy: 0.8976889285032151, Test Accuracy: 0.8564993564993565\n",
            "Epoch 26/100, Train Accuracy: 0.8965429426370408, Test Accuracy: 0.859073359073359\n",
            "Epoch 27/100, Train Accuracy: 0.9004265614057426, Test Accuracy: 0.8545688545688546\n",
            "Epoch 28/100, Train Accuracy: 0.9008722225759216, Test Accuracy: 0.859073359073359\n",
            "Epoch 29/100, Train Accuracy: 0.9027185331380913, Test Accuracy: 0.8616473616473617\n",
            "Epoch 30/100, Train Accuracy: 0.9039918507671739, Test Accuracy: 0.8584298584298584\n",
            "Epoch 31/100, Train Accuracy: 0.9061564907366142, Test Accuracy: 0.8577863577863578\n",
            "Epoch 32/100, Train Accuracy: 0.9081937989431463, Test Accuracy: 0.8622908622908623\n",
            "Epoch 33/100, Train Accuracy: 0.9085757942318712, Test Accuracy: 0.8577863577863578\n",
            "Epoch 34/100, Train Accuracy: 0.9080664671802381, Test Accuracy: 0.862934362934363\n",
            "Epoch 35/100, Train Accuracy: 0.9101037753867702, Test Accuracy: 0.8513513513513513\n",
            "Epoch 36/100, Train Accuracy: 0.9078118036544216, Test Accuracy: 0.8622908622908623\n",
            "Epoch 37/100, Train Accuracy: 0.91195008594894, Test Accuracy: 0.8532818532818532\n",
            "Epoch 38/100, Train Accuracy: 0.9125230788820271, Test Accuracy: 0.8513513513513513\n",
            "Epoch 39/100, Train Accuracy: 0.9143057235627428, Test Accuracy: 0.859073359073359\n",
            "Epoch 40/100, Train Accuracy: 0.9148787164958299, Test Accuracy: 0.8507078507078507\n",
            "Epoch 41/100, Train Accuracy: 0.9150697141401922, Test Accuracy: 0.8442728442728443\n",
            "Epoch 42/100, Train Accuracy: 0.9166613611765455, Test Accuracy: 0.851994851994852\n",
            "Epoch 43/100, Train Accuracy: 0.9177436811612657, Test Accuracy: 0.8545688545688546\n",
            "Epoch 44/100, Train Accuracy: 0.9176800152798116, Test Accuracy: 0.8513513513513513\n",
            "Epoch 45/100, Train Accuracy: 0.9197173234863437, Test Accuracy: 0.8513513513513513\n",
            "Epoch 46/100, Train Accuracy: 0.9189533329088941, Test Accuracy: 0.8500643500643501\n",
            "Epoch 47/100, Train Accuracy: 0.920863309352518, Test Accuracy: 0.851994851994852\n",
            "Epoch 48/100, Train Accuracy: 0.9214999681670593, Test Accuracy: 0.8500643500643501\n",
            "Epoch 49/100, Train Accuracy: 0.9219456293372382, Test Accuracy: 0.8494208494208494\n",
            "Epoch 50/100, Train Accuracy: 0.9246195963583116, Test Accuracy: 0.8597168597168597\n",
            "Epoch 51/100, Train Accuracy: 0.922327624625963, Test Accuracy: 0.8532818532818532\n",
            "Epoch 52/100, Train Accuracy: 0.9237282740179538, Test Accuracy: 0.8558558558558559\n",
            "Epoch 53/100, Train Accuracy: 0.9240466034252244, Test Accuracy: 0.8487773487773488\n",
            "Epoch 54/100, Train Accuracy: 0.9241739351881327, Test Accuracy: 0.853925353925354\n",
            "Epoch 55/100, Train Accuracy: 0.9251289234099446, Test Accuracy: 0.8500643500643501\n",
            "Epoch 56/100, Train Accuracy: 0.9276118927866557, Test Accuracy: 0.853925353925354\n",
            "Epoch 57/100, Train Accuracy: 0.9290762080601006, Test Accuracy: 0.8526383526383526\n",
            "Epoch 58/100, Train Accuracy: 0.92875787865283, Test Accuracy: 0.8545688545688546\n",
            "Epoch 59/100, Train Accuracy: 0.9297765327560961, Test Accuracy: 0.8532818532818532\n",
            "Epoch 60/100, Train Accuracy: 0.9307315209779079, Test Accuracy: 0.8571428571428571\n",
            "Epoch 61/100, Train Accuracy: 0.9316865091997198, Test Accuracy: 0.8526383526383526\n",
            "Epoch 62/100, Train Accuracy: 0.9326414974215318, Test Accuracy: 0.8507078507078507\n",
            "Epoch 63/100, Train Accuracy: 0.9310498503851786, Test Accuracy: 0.853925353925354\n",
            "Epoch 64/100, Train Accuracy: 0.9334691538804355, Test Accuracy: 0.8526383526383526\n",
            "Epoch 65/100, Train Accuracy: 0.9339148150506144, Test Accuracy: 0.8564993564993565\n",
            "Epoch 66/100, Train Accuracy: 0.9337874832877061, Test Accuracy: 0.8532818532818532\n",
            "Epoch 67/100, Train Accuracy: 0.9343604762207933, Test Accuracy: 0.8526383526383526\n",
            "Epoch 68/100, Train Accuracy: 0.93569745973133, Test Accuracy: 0.8571428571428571\n",
            "Epoch 69/100, Train Accuracy: 0.9369071114789584, Test Accuracy: 0.8597168597168597\n",
            "Epoch 70/100, Train Accuracy: 0.9344241421022474, Test Accuracy: 0.8500643500643501\n",
            "Epoch 71/100, Train Accuracy: 0.9368434455975043, Test Accuracy: 0.8532818532818532\n",
            "Epoch 72/100, Train Accuracy: 0.9390717514483988, Test Accuracy: 0.859073359073359\n",
            "Epoch 73/100, Train Accuracy: 0.9397720761443942, Test Accuracy: 0.8545688545688546\n",
            "Epoch 74/100, Train Accuracy: 0.9386260902782199, Test Accuracy: 0.8532818532818532\n",
            "Epoch 75/100, Train Accuracy: 0.93970841026294, Test Accuracy: 0.8532818532818532\n",
            "Epoch 76/100, Train Accuracy: 0.9388807538040365, Test Accuracy: 0.8571428571428571\n",
            "Epoch 77/100, Train Accuracy: 0.93970841026294, Test Accuracy: 0.851994851994852\n",
            "Epoch 78/100, Train Accuracy: 0.9403450690774814, Test Accuracy: 0.8481338481338482\n",
            "Epoch 79/100, Train Accuracy: 0.9413637231807475, Test Accuracy: 0.8564993564993565\n",
            "Epoch 80/100, Train Accuracy: 0.9414273890622016, Test Accuracy: 0.8494208494208494\n",
            "Epoch 81/100, Train Accuracy: 0.9429553702171006, Test Accuracy: 0.8494208494208494\n",
            "Epoch 82/100, Train Accuracy: 0.9425733749283759, Test Accuracy: 0.8494208494208494\n",
            "Epoch 83/100, Train Accuracy: 0.944610683134908, Test Accuracy: 0.851994851994852\n",
            "Epoch 84/100, Train Accuracy: 0.9433373655058255, Test Accuracy: 0.8494208494208494\n",
            "Epoch 85/100, Train Accuracy: 0.9446743490163622, Test Accuracy: 0.8474903474903475\n",
            "Epoch 86/100, Train Accuracy: 0.9422550455211053, Test Accuracy: 0.8558558558558559\n",
            "Epoch 87/100, Train Accuracy: 0.9451836760679951, Test Accuracy: 0.8513513513513513\n",
            "Epoch 88/100, Train Accuracy: 0.9456930031196282, Test Accuracy: 0.8481338481338482\n",
            "Epoch 89/100, Train Accuracy: 0.9449290125421786, Test Accuracy: 0.851994851994852\n",
            "Epoch 90/100, Train Accuracy: 0.9464569936970777, Test Accuracy: 0.8481338481338482\n",
            "Epoch 91/100, Train Accuracy: 0.9475393136817979, Test Accuracy: 0.8487773487773488\n",
            "Epoch 92/100, Train Accuracy: 0.9481759724963392, Test Accuracy: 0.8552123552123552\n",
            "Epoch 93/100, Train Accuracy: 0.9461386642898071, Test Accuracy: 0.8481338481338482\n",
            "Epoch 94/100, Train Accuracy: 0.9486216336665181, Test Accuracy: 0.8545688545688546\n",
            "Epoch 95/100, Train Accuracy: 0.9490036289552429, Test Accuracy: 0.8494208494208494\n",
            "Epoch 96/100, Train Accuracy: 0.9488762971923346, Test Accuracy: 0.8474903474903475\n",
            "Epoch 97/100, Train Accuracy: 0.9497676195326924, Test Accuracy: 0.8449163449163449\n",
            "Epoch 98/100, Train Accuracy: 0.9507226077545043, Test Accuracy: 0.8449163449163449\n",
            "Epoch 99/100, Train Accuracy: 0.9493219583625135, Test Accuracy: 0.8468468468468469\n",
            "Epoch 100/100, Train Accuracy: 0.9509136053988667, Test Accuracy: 0.8487773487773488\n"
          ]
        }
      ]
    }
  ],
  "metadata": {
    "colab": {
      "provenance": [],
      "gpuType": "T4"
    },
    "kernelspec": {
      "display_name": "Python 3",
      "name": "python3"
    },
    "language_info": {
      "name": "python"
    },
    "accelerator": "GPU"
  },
  "nbformat": 4,
  "nbformat_minor": 0
}